{
 "cells": [
  {
   "cell_type": "code",
   "execution_count": null,
   "id": "ec4cb0d2-e875-4b1a-8d32-3995e6bf30d9",
   "metadata": {},
   "outputs": [],
   "source": [
    "import pandas as pd"
   ]
  },
  {
   "cell_type": "code",
   "execution_count": null,
   "id": "119b7d9b-bec3-4acb-b92d-a2e808e1669c",
   "metadata": {},
   "outputs": [],
   "source": [
    "import pickle"
   ]
  },
  {
   "cell_type": "code",
   "execution_count": null,
   "id": "8da934ba-c203-4e1e-aa67-6b29c6bbcce0",
   "metadata": {},
   "outputs": [],
   "source": [
    "from sklearn.feature_extraction import DictVectorizer\n",
    "from sklearn.linear_model import LinearRegression\n",
    "from sklearn.linear_model import Lasso\n",
    "from sklearn.linear_model import Ridge\n",
    "\n",
    "from sklearn.metrics import mean_squared_error"
   ]
  },
  {
   "cell_type": "code",
   "execution_count": null,
   "id": "757288eb-feda-46ba-8d96-ed9ee054e683",
   "metadata": {},
   "outputs": [],
   "source": [
    "df = pd.read_parquet('https://d37ci6vzurychx.cloudfront.net/trip-data/yellow_tripdata_2023-01.parquet')"
   ]
  },
  {
   "cell_type": "code",
   "execution_count": null,
   "id": "d36b91a1-c3aa-478b-8f80-8198811ffcc6",
   "metadata": {},
   "outputs": [],
   "source": [
    "df.head()"
   ]
  },
  {
   "cell_type": "code",
   "execution_count": null,
   "id": "61d6db6d-513a-42a9-b306-b7cbab5813aa",
   "metadata": {},
   "outputs": [],
   "source": [
    "rows = df.shape[0]\n",
    "cols = df.shape[1]\n",
    "rows\n"
   ]
  },
  {
   "cell_type": "code",
   "execution_count": null,
   "id": "36fb9bb0-fae2-4317-a508-8adb83cc585e",
   "metadata": {},
   "outputs": [],
   "source": [
    "cols"
   ]
  },
  {
   "cell_type": "code",
   "execution_count": null,
   "id": "e03e3317-1029-4d49-85a8-ff8092569c47",
   "metadata": {},
   "outputs": [],
   "source": [
    "print(df['tpep_pickup_datetime'].dt.time)"
   ]
  },
  {
   "cell_type": "code",
   "execution_count": null,
   "id": "b8b5f9dc-b711-4cfa-9d8e-519816f2d0f8",
   "metadata": {},
   "outputs": [],
   "source": [
    "\n",
    "df['duration']= df[\"tpep_dropoff_datetime\"] - df[\"tpep_pickup_datetime\"] \n",
    "\n"
   ]
  },
  {
   "cell_type": "code",
   "execution_count": null,
   "id": "a89f8ce5-e4d1-4cef-9420-de3745771dd3",
   "metadata": {},
   "outputs": [],
   "source": [
    "df['duration'] = df['duration'] / pd.Timedelta(minutes=1)"
   ]
  },
  {
   "cell_type": "code",
   "execution_count": null,
   "id": "d7be628e-3668-4170-bbe2-e347c9366ef6",
   "metadata": {},
   "outputs": [],
   "source": [
    "df.head()"
   ]
  },
  {
   "cell_type": "code",
   "execution_count": null,
   "id": "5631ff54-8e64-4587-bce9-4692403d6d28",
   "metadata": {},
   "outputs": [],
   "source": [
    "df.describe()\n"
   ]
  },
  {
   "cell_type": "code",
   "execution_count": null,
   "id": "9727dd38-3f89-4e6a-aa83-da6d5663dc46",
   "metadata": {},
   "outputs": [],
   "source": [
    "df = df[(df.duration >= 1) & (df.duration <= 60)]"
   ]
  },
  {
   "cell_type": "code",
   "execution_count": null,
   "id": "aad99982-01e1-497a-ada0-b80c7e4b61bf",
   "metadata": {},
   "outputs": [],
   "source": [
    "new_rows = df.shape[0]\n",
    "new_rows"
   ]
  },
  {
   "cell_type": "code",
   "execution_count": null,
   "id": "2924ff25-f9bb-444d-a223-d7c241e9320f",
   "metadata": {},
   "outputs": [],
   "source": [
    "outliers = new_rows / rows\n",
    "outliers"
   ]
  },
  {
   "cell_type": "code",
   "execution_count": null,
   "id": "a0b2aa32-b1a7-4e8e-b828-3a9240a7a0b8",
   "metadata": {},
   "outputs": [],
   "source": []
  },
  {
   "cell_type": "code",
   "execution_count": null,
   "id": "3a78a2ce-b75b-4ac2-9d61-4371bfb846f7",
   "metadata": {},
   "outputs": [],
   "source": [
    "categorical = ['PULocationID', 'DOLocationID']\n",
    "numerical = ['trip_distance']\n",
    "\n",
    "df[categorical] = df[categorical].astype(str)\n",
    "\n",
    "train_dicts = df[categorical].to_dict(orient='records')\n",
    "\n",
    "dv = DictVectorizer()\n"
   ]
  },
  {
   "cell_type": "code",
   "execution_count": null,
   "id": "3551554f-c11f-4bfd-ace4-9f4d221f1cc6",
   "metadata": {},
   "outputs": [],
   "source": []
  },
  {
   "cell_type": "code",
   "execution_count": null,
   "id": "cbe0e29b-1eb2-40c0-bc6a-6e7d3af27215",
   "metadata": {},
   "outputs": [],
   "source": [
    "train_dicts"
   ]
  },
  {
   "cell_type": "code",
   "execution_count": null,
   "id": "944f1c52-ecd6-4c05-8aa0-05b2b7c1459b",
   "metadata": {},
   "outputs": [],
   "source": [
    "\n",
    "X_train = dv.fit_transform(train_dicts)\n",
    "\n",
    "target = 'duration'\n",
    "y_train = df[target].values\n",
    "\n",
    "lr = LinearRegression()\n",
    "lr.fit(X_train, y_train)\n",
    "\n",
    "y_pred = lr.predict(X_train)\n",
    "\n",
    "mean_squared_error(y_train, y_pred, squared=False)\n",
    "\n"
   ]
  },
  {
   "cell_type": "code",
   "execution_count": null,
   "id": "258d2c0e-c9c1-4477-8b35-46715de383ba",
   "metadata": {},
   "outputs": [],
   "source": []
  },
  {
   "cell_type": "code",
   "execution_count": null,
   "id": "1db56177-6c90-481a-b01b-5025258c9d01",
   "metadata": {},
   "outputs": [],
   "source": [
    "def read_dataframe(filename):\n",
    " \n",
    "    df = pd.read_parquet(filename)\n",
    "\n",
    "    df['duration']= df[\"tpep_dropoff_datetime\"] - df[\"tpep_pickup_datetime\"] \n",
    "    df['duration'] = df['duration'] / pd.Timedelta(minutes=1)\n",
    "\n",
    "    df = df[(df.duration >= 1) & (df.duration <= 60)]\n",
    "\n",
    "    categorical = ['PULocationID', 'DOLocationID']\n",
    "    df[categorical] = df[categorical].astype(str)\n",
    "    \n",
    "    return df"
   ]
  },
  {
   "cell_type": "code",
   "execution_count": null,
   "id": "5369d677-2070-4dab-91bc-4075f3cd892d",
   "metadata": {},
   "outputs": [],
   "source": [
    "df_train = read_dataframe('https://d37ci6vzurychx.cloudfront.net/trip-data/yellow_tripdata_2023-01.parquet')\n",
    "df_val = read_dataframe('https://d37ci6vzurychx.cloudfront.net/trip-data/yellow_tripdata_2023-02.parquet')"
   ]
  },
  {
   "cell_type": "code",
   "execution_count": null,
   "id": "06692dc9-03c5-41aa-831d-a151b41ca8c6",
   "metadata": {},
   "outputs": [],
   "source": [
    "len(df_train), len(df_val)"
   ]
  },
  {
   "cell_type": "code",
   "execution_count": null,
   "id": "57585e54-694f-46b1-9378-727fa9ba96ee",
   "metadata": {},
   "outputs": [],
   "source": [
    "df_train['PU_DO'] = df_train['PULocationID'] + '_' + df_train['DOLocationID']\n",
    "df_val['PU_DO'] = df_val['PULocationID'] + '_' + df_val['DOLocationID']\n"
   ]
  },
  {
   "cell_type": "code",
   "execution_count": null,
   "id": "39ffd0a0-c107-4e25-9e80-a218b90a855c",
   "metadata": {},
   "outputs": [],
   "source": [
    "df_train.head()"
   ]
  },
  {
   "cell_type": "code",
   "execution_count": null,
   "id": "33c334c7-6e8e-4100-b68d-46f740ee9d5f",
   "metadata": {},
   "outputs": [],
   "source": [
    "categorical = ['PU_DO'] #'PULocationID', 'DOLocationID']\n",
    "\n",
    "\n",
    "dv = DictVectorizer()\n",
    "\n",
    "train_dicts = df_train[categorical].to_dict(orient='records')\n",
    "X_train = dv.fit_transform(train_dicts)\n",
    "\n",
    "val_dicts = df_val[categorical + numerical].to_dict(orient='records')\n",
    "X_val = dv.transform(val_dicts)"
   ]
  },
  {
   "cell_type": "code",
   "execution_count": null,
   "id": "7f04bd91-4da3-465e-8e98-39f60a434951",
   "metadata": {},
   "outputs": [],
   "source": [
    "target = 'duration'\n",
    "y_train = df_train[target].values\n",
    "y_val = df_val[target].values"
   ]
  },
  {
   "cell_type": "code",
   "execution_count": null,
   "id": "ff4af23e-0e6b-4bfa-8d8c-6a0a87b3c556",
   "metadata": {},
   "outputs": [],
   "source": [
    "y_val"
   ]
  },
  {
   "cell_type": "code",
   "execution_count": null,
   "id": "1faa2b03-d8cf-4673-86d2-b4bac992e34e",
   "metadata": {},
   "outputs": [],
   "source": [
    "lr = LinearRegression()\n",
    "lr.fit(X_train, y_train)\n",
    "\n",
    "y_pred = lr.predict(X_val)\n",
    "\n",
    "mean_squared_error(y_val, y_pred, squared=False)"
   ]
  },
  {
   "cell_type": "code",
   "execution_count": null,
   "id": "08429753-a5ab-40d9-8eaf-fbc4cebfeab8",
   "metadata": {},
   "outputs": [],
   "source": [
    "with open('models/lin_reg.bin', 'wb') as f_out:\n",
    "    pickle.dump((dv, lr), f_out)"
   ]
  },
  {
   "cell_type": "code",
   "execution_count": null,
   "id": "57f00c1e-57a9-49b3-bf17-c71460beddf6",
   "metadata": {},
   "outputs": [],
   "source": []
  },
  {
   "cell_type": "code",
   "execution_count": null,
   "id": "a4257da5-c9b2-4349-8939-8c9a4cc94cf0",
   "metadata": {},
   "outputs": [],
   "source": []
  }
 ],
 "metadata": {
  "kernelspec": {
   "display_name": "Python 3 (ipykernel)",
   "language": "python",
   "name": "python3"
  },
  "language_info": {
   "codemirror_mode": {
    "name": "ipython",
    "version": 3
   },
   "file_extension": ".py",
   "mimetype": "text/x-python",
   "name": "python",
   "nbconvert_exporter": "python",
   "pygments_lexer": "ipython3",
   "version": "3.12.2"
  }
 },
 "nbformat": 4,
 "nbformat_minor": 5
}
